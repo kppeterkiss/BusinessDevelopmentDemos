{
 "cells": [
  {
   "cell_type": "code",
   "execution_count": 30,
   "id": "initial_id",
   "metadata": {
    "ExecuteTime": {
     "end_time": "2024-05-07T10:37:47.446894Z",
     "start_time": "2024-05-07T10:37:47.439496Z"
    }
   },
   "outputs": [],
   "source": [
    "import os"
   ]
  },
  {
   "cell_type": "code",
   "execution_count": 31,
   "id": "ddc0daf33ca3e200",
   "metadata": {
    "ExecuteTime": {
     "end_time": "2024-05-07T10:44:33.380995Z",
     "start_time": "2024-05-07T10:44:33.377047Z"
    }
   },
   "outputs": [],
   "source": [
    "datadir= \"data/\""
   ]
  },
  {
   "cell_type": "markdown",
   "id": "57a48dc7286b9de0",
   "metadata": {},
   "source": [
    "from https://nanonets.com/blog/how-to-extract-data-from-invoices-using-python/"
   ]
  },
  {
   "cell_type": "code",
   "execution_count": 44,
   "id": "d8a5a76513cbca71",
   "metadata": {
    "ExecuteTime": {
     "end_time": "2024-05-07T10:38:14.386230Z",
     "start_time": "2024-05-07T10:38:14.382893Z"
    }
   },
   "outputs": [],
   "source": [
    "files = os.listdir(\"data\")"
   ]
  },
  {
   "cell_type": "code",
   "execution_count": 45,
   "id": "9101330a",
   "metadata": {},
   "outputs": [
    {
     "name": "stdout",
     "output_type": "stream",
     "text": [
      "['wordpress-pdf-invoice-plugin-sample.pdf_page0.png', 'szamla.pdf', 'wordpress-pdf-invoice-plugin-sample.pdf', 'page0.png']\n"
     ]
    }
   ],
   "source": [
    "print(files)"
   ]
  },
  {
   "cell_type": "code",
   "execution_count": 35,
   "id": "d8af554f64a43168",
   "metadata": {
    "ExecuteTime": {
     "end_time": "2024-05-07T10:38:14.894954Z",
     "start_time": "2024-05-07T10:38:14.891700Z"
    }
   },
   "outputs": [],
   "source": [
    "file = files[1]"
   ]
  },
  {
   "cell_type": "markdown",
   "id": "b56f77c6df5a3c95",
   "metadata": {},
   "source": [
    "pdftotext"
   ]
  },
  {
   "cell_type": "code",
   "execution_count": 36,
   "id": "d0ccd6538ff7f00f",
   "metadata": {
    "ExecuteTime": {
     "end_time": "2024-05-07T10:44:29.583114Z",
     "start_time": "2024-05-07T10:44:29.580175Z"
    }
   },
   "outputs": [],
   "source": [
    "import pdftotext"
   ]
  },
  {
   "cell_type": "code",
   "execution_count": 37,
   "id": "dcba11d9ef4d3b7d",
   "metadata": {
    "ExecuteTime": {
     "end_time": "2024-05-07T10:44:52.801289Z",
     "start_time": "2024-05-07T10:44:52.794554Z"
    }
   },
   "outputs": [
    {
     "name": "stdout",
     "output_type": "stream",
     "text": [
      "Invoice\n",
      "From:\n",
      "DEMO - Sliced Invoices\n",
      "Suite 5A-1204\n",
      "123 Somewhere Street\n",
      "Your City AZ 12345\n",
      "admin@slicedinvoices.com\n",
      "\n",
      "Invoice Number\n",
      "\n",
      "INV-3337\n",
      "\n",
      "Order Number\n",
      "\n",
      "12345\n",
      "\n",
      "Invoice Date\n",
      "\n",
      "January 25, 2016\n",
      "\n",
      "Due Date\n",
      "\n",
      "January 31, 2016\n",
      "\n",
      "Total Due\n",
      "\n",
      "$93.50\n",
      "\n",
      "1.00\n",
      "\n",
      "Service\n",
      "Web Design\n",
      "This is a sample description...\n",
      "\n",
      "ANZ Bank\n",
      "ACC # 1234 1234\n",
      "BSB # 4321 432\n",
      "\n",
      "Pa\n",
      "\n",
      "Hrs/Qty\n",
      "\n",
      "id\n",
      "\n",
      "To:\n",
      "Test Business\n",
      "123 Somewhere St\n",
      "Melbourne, VIC 3000\n",
      "test@test.com\n",
      "\n",
      "Rate/Price\n",
      "\n",
      "Adjust\n",
      "\n",
      "Sub Total\n",
      "\n",
      "$85.00\n",
      "\n",
      "0.00%\n",
      "\n",
      "$85.00\n",
      "\n",
      "Sub Total\n",
      "\n",
      "$85.00\n",
      "\n",
      "Tax\n",
      "\n",
      "$8.50\n",
      "\n",
      "Total\n",
      "\n",
      "$93.50\n",
      "\n",
      "Payment is due within 30 days from date of invoice. Late payment is subject to fees of 5% per month.\n",
      "Thanks for choosing DEMO - Sliced Invoices | admin@slicedinvoices.com\n",
      "Page 1/1\n",
      "\n",
      "\f",
      "\n"
     ]
    }
   ],
   "source": [
    "with open(datadir+file, 'rb') as f:\n",
    "    pdf = pdftotext.PDF(f)\n",
    "    text = '\\n\\n'.join(pdf)\n",
    "print(text)"
   ]
  },
  {
   "cell_type": "markdown",
   "id": "3239f9a4f03e05ac",
   "metadata": {},
   "source": [
    "tabula - TEXT BASED DOCS\n"
   ]
  },
  {
   "cell_type": "code",
   "execution_count": 38,
   "id": "4164aa05fd2d3a48",
   "metadata": {
    "ExecuteTime": {
     "end_time": "2024-05-07T10:51:29.419588Z",
     "start_time": "2024-05-07T10:51:29.237932Z"
    }
   },
   "outputs": [
    {
     "name": "stdout",
     "output_type": "stream",
     "text": [
      "-  ------------  ----------------\n",
      "0  Order Number  12345\n",
      "1  Invoice Date  January 25, 2016\n",
      "2  Due Date      January 31, 2016\n",
      "3  Total Due     $93.50\n",
      "-  ------------  ----------------\n"
     ]
    },
    {
     "name": "stderr",
     "output_type": "stream",
     "text": [
      "/Users/peterkiss/anaconda3/envs/docproc_env/lib/python3.12/site-packages/tabula/io.py:1054: FutureWarning: errors='ignore' is deprecated and will raise in a future version. Use to_numeric without passing `errors` and catch exceptions explicitly instead\n",
      "  df[c] = pd.to_numeric(df[c], errors=\"ignore\")\n"
     ]
    }
   ],
   "source": [
    "from tabula import read_pdf\n",
    "from tabulate import tabulate\n",
    "df = read_pdf(datadir+file ,pages=\"all\")\n",
    "print(tabulate(df[0]))\n",
    "#print(tabulate(df[1]))\n"
   ]
  },
  {
   "cell_type": "markdown",
   "id": "b404884e1a2c129e",
   "metadata": {},
   "source": [
    "pytesseract - https://nanonets.com/blog/ocr-with-tesseract/"
   ]
  },
  {
   "cell_type": "code",
   "execution_count": 39,
   "id": "9fde5cc3259c7d37",
   "metadata": {
    "ExecuteTime": {
     "end_time": "2024-05-07T10:56:37.619071Z",
     "start_time": "2024-05-07T10:56:12.598499Z"
    }
   },
   "outputs": [],
   "source": [
    "import cv2\n",
    "import pytesseract\n",
    "from pytesseract import Output"
   ]
  },
  {
   "cell_type": "markdown",
   "id": "8b322aab",
   "metadata": {},
   "source": [
    "brew install tesseract\n",
    "\n",
    "brew install tesseract-lang\n"
   ]
  },
  {
   "cell_type": "code",
   "execution_count": 40,
   "id": "e75992480432765c",
   "metadata": {
    "ExecuteTime": {
     "end_time": "2024-05-07T10:56:39.968464Z",
     "start_time": "2024-05-07T10:56:39.964808Z"
    }
   },
   "outputs": [
    {
     "name": "stdout",
     "output_type": "stream",
     "text": [
      "Page # 0 - G MWredhwoices\n",
      "\n",
      "From:\n",
      "DEMO - Sliced Invoices\n",
      "\n",
      "Invoice\n",
      "\n",
      "Invoice Number\n",
      "\n",
      "INV-3337\n",
      "\n",
      "Order Number\n",
      "\n",
      "12345\n",
      "\n",
      "Suite 5A-1204 Invoice Date January 25, 2016\n",
      "123 Somewhere Street Due Date January 31, 2016\n",
      "Your City AZ 12345\n",
      "admin Oslicedinvoices.com poeleee $93.50\n",
      "To:\n",
      "Test Business\n",
      "123 Somewhere St\n",
      "Melbourne, VIC 3000\n",
      "estOtest.com\n",
      "Hrs/aty Service Rate/Price Adjust Sub Total\n",
      "Web Design jo\n",
      "1.00 This is a sample description... $85.00 9.0090 $85.00\n",
      "Sub Total $85.00\n",
      "Tax $8.50\n",
      "Total $93.50\n",
      "\n",
      "ANZ Bank\n",
      "ACC 4 1234 1234\n",
      "BSB $ 4321 432\n",
      "\n",
      "Payment is due within 30 days from date of invoice. Late payment is subject to fees of 590 per month.\n",
      "Thanks for choosing DEMO - Sliced Invoices I admin Oslicedinvoices.com\n",
      "\n",
      "Page 1/1\n",
      "\n",
      "\n"
     ]
    }
   ],
   "source": [
    "import os\n",
    "from PIL import Image\n",
    "from pdf2image import convert_from_path\n",
    "import pytesseract\n",
    "\n",
    "filePath = datadir+file\n",
    "\n",
    "doc = convert_from_path(filePath)\n",
    "path, fileName = os.path.split(filePath)\n",
    "fileBaseName, fileExtension = os.path.splitext(fileName)\n",
    "\n",
    "for page_number, page_data in enumerate(doc):\n",
    "    #txt = pytesseract.image_to_string(Image.fromarray(page_data)).encode(\"utf-8\")\n",
    "    txt = pytesseract.image_to_string(page_data, lang=\"hun\")#.encode(\"utf-8\")\n",
    "    print(\"Page # {} - {}\".format(str(page_number),txt))"
   ]
  },
  {
   "cell_type": "code",
   "execution_count": 77,
   "id": "6065429e",
   "metadata": {},
   "outputs": [],
   "source": [
    "\n",
    "# import module\n",
    "from pdf2image import convert_from_path\n",
    " \n",
    " \n",
    "# Store Pdf with convert_from_path function\n",
    "images = convert_from_path(filePath)\n",
    " \n",
    "for i in range(len(images)):\n",
    "   \n",
    "      # Save pages as images in the pdf\n",
    "    #images[i].save(datadir+'page'+ str(i) +'.jpg', 'JPEG')\n",
    "    images[i].save(filePath.split('.')[0]+'_page'+ str(i) +'.png', 'PNG')\n"
   ]
  },
  {
   "cell_type": "code",
   "execution_count": 78,
   "id": "f74add8e",
   "metadata": {},
   "outputs": [],
   "source": [
    "import cv2\n",
    "img = cv2.imread(filePath.split('.')[0]+\"_page0.png\")"
   ]
  },
  {
   "cell_type": "code",
   "execution_count": 79,
   "id": "5865d0fa",
   "metadata": {},
   "outputs": [
    {
     "name": "stdout",
     "output_type": "stream",
     "text": [
      "dict_keys(['text'])\n"
     ]
    }
   ],
   "source": [
    "from pytesseract import Output\n",
    "\n",
    "#txt = pytesseract.image_to_string(Image.fromarray(page_data)).encode(\"utf-8\")\n",
    "d = pytesseract.image_to_string(img, output_type=Output.DICT)#.encode(\"utf-8\")\n",
    "# Print the keys of the resulting dictionary to see the available information\n",
    "print(d.keys())"
   ]
  },
  {
   "cell_type": "code",
   "execution_count": 80,
   "id": "587c5029",
   "metadata": {},
   "outputs": [
    {
     "name": "stdout",
     "output_type": "stream",
     "text": [
      "© Cicedmvoices\n",
      "\n",
      "From:\n",
      "DEMO - Sliced Invoices\n",
      "\n",
      "Invoice\n",
      "\n",
      "Invoice Number\n",
      "\n",
      "INV-3337\n",
      "\n",
      "Order Number\n",
      "\n",
      "12345\n",
      "\n",
      "Suite 5A-1204 Invoice Date January 25, 2016\n",
      "123 Somewhere Street Due Date January 31, 2016\n",
      "Your City AZ 12345\n",
      "admin @slicedinvoices.com fotallpue) CERES\n",
      "To:\n",
      "Test Business\n",
      "123 Somewhere St\n",
      "Melbourne, VIC 3000\n",
      "lest@test.com\n",
      "Hrs/Qty Service Rate/Price Adjust Sub Total\n",
      "Web Design 9\n",
      "1.00 This is a sample description... $85.00 0.00% $85.00\n",
      "Sub Total $85.00\n",
      "Tax $8.50\n",
      "Total $93.50\n",
      "\n",
      "ANZ Bank\n",
      "ACC # 1234 1234\n",
      "BSB # 4321 432\n",
      "\n",
      "Payment is due within 30 days from date of invoice. Late payment is subject to fees of 5% per month.\n",
      "Thanks for choosing DEMO - Sliced Invoices | admin@slicedinvoices.com\n",
      "\n",
      "Page 1/1\n",
      "\n",
      "\n"
     ]
    }
   ],
   "source": [
    "print(d['text'])"
   ]
  },
  {
   "cell_type": "code",
   "execution_count": 82,
   "id": "662b9aea",
   "metadata": {},
   "outputs": [
    {
     "data": {
      "image/png": "[encoded data removed]",
      "text/plain": [
       "<Figure size 640x480 with 1 Axes>"
      ]
     },
     "metadata": {},
     "output_type": "display_data"
    }
   ],
   "source": [
    "import matplotlib.pyplot as plt\n",
    "\n",
    "dd = pytesseract.image_to_data(img, output_type=Output.DICT)\n",
    "n_boxes = len(dd['level'])\n",
    "for i in range(n_boxes):\n",
    "    (x, y, w, h) = (dd['left'][i], dd['top'][i], dd['width'][i], dd['height'][i])\n",
    "    cv2.rectangle(img, (x, y), (x + w, y + h), (0, 255, 0), 2)\n",
    "\n",
    "#cv2.imshow('img', img)\n",
    "#cv2.waitKey(0 )\n",
    "\n",
    "# load image using cv2....and do processing.\n",
    "plt.imshow(cv2.cvtColor(img, cv2.COLOR_BGR2RGB))\n",
    "# as opencv loads in BGR format by default, we want to show it in RGB.\n",
    "plt.show()"
   ]
  },
  {
   "cell_type": "code",
   "execution_count": 64,
   "id": "dd0fc954",
   "metadata": {},
   "outputs": [
    {
     "name": "stdout",
     "output_type": "stream",
     "text": [
      "Collecting en-core-web-sm==3.7.1\n",
      "  Downloading https://github.com/explosion/spacy-models/releases/download/en_core_web_sm-3.7.1/en_core_web_sm-3.7.1-py3-none-any.whl (12.8 MB)\n",
      "\u001b[2K     \u001b[90m━━━━━━━━━━━━━━━━━━━━━━━━━━━━━━━━━━━━━━━━\u001b[0m \u001b[32m12.8/12.8 MB\u001b[0m \u001b[31m20.4 MB/s\u001b[0m eta \u001b[36m0:00:00\u001b[0m00:01\u001b[0m00:01\u001b[0m\n",
      "\u001b[?25hRequirement already satisfied: spacy<3.8.0,>=3.7.2 in /Users/peterkiss/anaconda3/envs/docproc_env/lib/python3.12/site-packages (from en-core-web-sm==3.7.1) (3.7.2)\n",
      "Requirement already satisfied: spacy-legacy<3.1.0,>=3.0.11 in /Users/peterkiss/anaconda3/envs/docproc_env/lib/python3.12/site-packages (from spacy<3.8.0,>=3.7.2->en-core-web-sm==3.7.1) (3.0.12)\n",
      "Requirement already satisfied: spacy-loggers<2.0.0,>=1.0.0 in /Users/peterkiss/anaconda3/envs/docproc_env/lib/python3.12/site-packages (from spacy<3.8.0,>=3.7.2->en-core-web-sm==3.7.1) (1.0.5)\n",
      "Requirement already satisfied: murmurhash<1.1.0,>=0.28.0 in /Users/peterkiss/anaconda3/envs/docproc_env/lib/python3.12/site-packages (from spacy<3.8.0,>=3.7.2->en-core-web-sm==3.7.1) (1.0.10)\n",
      "Requirement already satisfied: cymem<2.1.0,>=2.0.2 in /Users/peterkiss/anaconda3/envs/docproc_env/lib/python3.12/site-packages (from spacy<3.8.0,>=3.7.2->en-core-web-sm==3.7.1) (2.0.8)\n",
      "Requirement already satisfied: preshed<3.1.0,>=3.0.2 in /Users/peterkiss/anaconda3/envs/docproc_env/lib/python3.12/site-packages (from spacy<3.8.0,>=3.7.2->en-core-web-sm==3.7.1) (3.0.9)\n",
      "Requirement already satisfied: thinc<8.3.0,>=8.1.8 in /Users/peterkiss/anaconda3/envs/docproc_env/lib/python3.12/site-packages (from spacy<3.8.0,>=3.7.2->en-core-web-sm==3.7.1) (8.2.2)\n",
      "Requirement already satisfied: wasabi<1.2.0,>=0.9.1 in /Users/peterkiss/anaconda3/envs/docproc_env/lib/python3.12/site-packages (from spacy<3.8.0,>=3.7.2->en-core-web-sm==3.7.1) (0.10.1)\n",
      "Requirement already satisfied: srsly<3.0.0,>=2.4.3 in /Users/peterkiss/anaconda3/envs/docproc_env/lib/python3.12/site-packages (from spacy<3.8.0,>=3.7.2->en-core-web-sm==3.7.1) (2.4.8)\n",
      "Requirement already satisfied: catalogue<2.1.0,>=2.0.6 in /Users/peterkiss/anaconda3/envs/docproc_env/lib/python3.12/site-packages (from spacy<3.8.0,>=3.7.2->en-core-web-sm==3.7.1) (2.0.10)\n",
      "Requirement already satisfied: weasel<0.4.0,>=0.1.0 in /Users/peterkiss/anaconda3/envs/docproc_env/lib/python3.12/site-packages (from spacy<3.8.0,>=3.7.2->en-core-web-sm==3.7.1) (0.3.4)\n",
      "Requirement already satisfied: typer<0.10.0,>=0.3.0 in /Users/peterkiss/anaconda3/envs/docproc_env/lib/python3.12/site-packages (from spacy<3.8.0,>=3.7.2->en-core-web-sm==3.7.1) (0.9.4)\n",
      "Requirement already satisfied: smart-open<7.0.0,>=5.2.1 in /Users/peterkiss/anaconda3/envs/docproc_env/lib/python3.12/site-packages (from spacy<3.8.0,>=3.7.2->en-core-web-sm==3.7.1) (6.4.0)\n",
      "Requirement already satisfied: tqdm<5.0.0,>=4.38.0 in /Users/peterkiss/anaconda3/envs/docproc_env/lib/python3.12/site-packages (from spacy<3.8.0,>=3.7.2->en-core-web-sm==3.7.1) (4.66.4)\n",
      "Requirement already satisfied: requests<3.0.0,>=2.13.0 in /Users/peterkiss/anaconda3/envs/docproc_env/lib/python3.12/site-packages (from spacy<3.8.0,>=3.7.2->en-core-web-sm==3.7.1) (2.31.0)\n",
      "Requirement already satisfied: pydantic!=1.8,!=1.8.1,<3.0.0,>=1.7.4 in /Users/peterkiss/anaconda3/envs/docproc_env/lib/python3.12/site-packages (from spacy<3.8.0,>=3.7.2->en-core-web-sm==3.7.1) (2.7.1)\n",
      "Requirement already satisfied: jinja2 in /Users/peterkiss/anaconda3/envs/docproc_env/lib/python3.12/site-packages (from spacy<3.8.0,>=3.7.2->en-core-web-sm==3.7.1) (3.1.3)\n",
      "Requirement already satisfied: setuptools in /Users/peterkiss/anaconda3/envs/docproc_env/lib/python3.12/site-packages (from spacy<3.8.0,>=3.7.2->en-core-web-sm==3.7.1) (69.5.1)\n",
      "Requirement already satisfied: packaging>=20.0 in /Users/peterkiss/anaconda3/envs/docproc_env/lib/python3.12/site-packages (from spacy<3.8.0,>=3.7.2->en-core-web-sm==3.7.1) (24.0)\n",
      "Requirement already satisfied: langcodes<4.0.0,>=3.2.0 in /Users/peterkiss/anaconda3/envs/docproc_env/lib/python3.12/site-packages (from spacy<3.8.0,>=3.7.2->en-core-web-sm==3.7.1) (3.4.0)\n",
      "Requirement already satisfied: numpy>=1.19.0 in /Users/peterkiss/anaconda3/envs/docproc_env/lib/python3.12/site-packages (from spacy<3.8.0,>=3.7.2->en-core-web-sm==3.7.1) (1.26.4)\n",
      "Requirement already satisfied: language-data>=1.2 in /Users/peterkiss/anaconda3/envs/docproc_env/lib/python3.12/site-packages (from langcodes<4.0.0,>=3.2.0->spacy<3.8.0,>=3.7.2->en-core-web-sm==3.7.1) (1.2.0)\n",
      "Requirement already satisfied: annotated-types>=0.4.0 in /Users/peterkiss/anaconda3/envs/docproc_env/lib/python3.12/site-packages (from pydantic!=1.8,!=1.8.1,<3.0.0,>=1.7.4->spacy<3.8.0,>=3.7.2->en-core-web-sm==3.7.1) (0.6.0)\n",
      "Requirement already satisfied: pydantic-core==2.18.2 in /Users/peterkiss/anaconda3/envs/docproc_env/lib/python3.12/site-packages (from pydantic!=1.8,!=1.8.1,<3.0.0,>=1.7.4->spacy<3.8.0,>=3.7.2->en-core-web-sm==3.7.1) (2.18.2)\n",
      "Requirement already satisfied: typing-extensions>=4.6.1 in /Users/peterkiss/anaconda3/envs/docproc_env/lib/python3.12/site-packages (from pydantic!=1.8,!=1.8.1,<3.0.0,>=1.7.4->spacy<3.8.0,>=3.7.2->en-core-web-sm==3.7.1) (4.11.0)\n",
      "Requirement already satisfied: charset-normalizer<4,>=2 in /Users/peterkiss/anaconda3/envs/docproc_env/lib/python3.12/site-packages (from requests<3.0.0,>=2.13.0->spacy<3.8.0,>=3.7.2->en-core-web-sm==3.7.1) (3.3.2)\n",
      "Requirement already satisfied: idna<4,>=2.5 in /Users/peterkiss/anaconda3/envs/docproc_env/lib/python3.12/site-packages (from requests<3.0.0,>=2.13.0->spacy<3.8.0,>=3.7.2->en-core-web-sm==3.7.1) (3.7)\n",
      "Requirement already satisfied: urllib3<3,>=1.21.1 in /Users/peterkiss/anaconda3/envs/docproc_env/lib/python3.12/site-packages (from requests<3.0.0,>=2.13.0->spacy<3.8.0,>=3.7.2->en-core-web-sm==3.7.1) (2.2.1)\n",
      "Requirement already satisfied: certifi>=2017.4.17 in /Users/peterkiss/anaconda3/envs/docproc_env/lib/python3.12/site-packages (from requests<3.0.0,>=2.13.0->spacy<3.8.0,>=3.7.2->en-core-web-sm==3.7.1) (2024.2.2)\n",
      "Requirement already satisfied: blis<0.8.0,>=0.7.8 in /Users/peterkiss/anaconda3/envs/docproc_env/lib/python3.12/site-packages (from thinc<8.3.0,>=8.1.8->spacy<3.8.0,>=3.7.2->en-core-web-sm==3.7.1) (0.7.11)\n",
      "Requirement already satisfied: confection<1.0.0,>=0.0.1 in /Users/peterkiss/anaconda3/envs/docproc_env/lib/python3.12/site-packages (from thinc<8.3.0,>=8.1.8->spacy<3.8.0,>=3.7.2->en-core-web-sm==3.7.1) (0.1.4)\n",
      "Requirement already satisfied: click<9.0.0,>=7.1.1 in /Users/peterkiss/anaconda3/envs/docproc_env/lib/python3.12/site-packages (from typer<0.10.0,>=0.3.0->spacy<3.8.0,>=3.7.2->en-core-web-sm==3.7.1) (8.1.7)\n",
      "Requirement already satisfied: cloudpathlib<0.17.0,>=0.7.0 in /Users/peterkiss/anaconda3/envs/docproc_env/lib/python3.12/site-packages (from weasel<0.4.0,>=0.1.0->spacy<3.8.0,>=3.7.2->en-core-web-sm==3.7.1) (0.16.0)\n",
      "Requirement already satisfied: MarkupSafe>=2.0 in /Users/peterkiss/anaconda3/envs/docproc_env/lib/python3.12/site-packages (from jinja2->spacy<3.8.0,>=3.7.2->en-core-web-sm==3.7.1) (2.1.3)\n",
      "Requirement already satisfied: marisa-trie>=0.7.7 in /Users/peterkiss/anaconda3/envs/docproc_env/lib/python3.12/site-packages (from language-data>=1.2->langcodes<4.0.0,>=3.2.0->spacy<3.8.0,>=3.7.2->en-core-web-sm==3.7.1) (1.1.0)\n",
      "Installing collected packages: en-core-web-sm\n",
      "Successfully installed en-core-web-sm-3.7.1\n",
      "\u001b[38;5;2m✔ Download and installation successful\u001b[0m\n",
      "You can now load the package via spacy.load('en_core_web_sm')\n"
     ]
    }
   ],
   "source": [
    "!python -m spacy download en_core_web_sm"
   ]
  },
  {
   "cell_type": "code",
   "execution_count": 83,
   "id": "ba9467f5",
   "metadata": {},
   "outputs": [],
   "source": [
    "import spacy\n",
    "# Load the English pre-trained model with NER\n",
    "nlp = spacy.load('en_core_web_sm')"
   ]
  },
  {
   "cell_type": "code",
   "execution_count": 84,
   "id": "9fa3681d",
   "metadata": {},
   "outputs": [
    {
     "data": {
      "text/plain": [
       "'© Cicedmvoices\\n\\nFrom:\\nDEMO - Sliced Invoices\\n\\nInvoice\\n\\nInvoice Number\\n\\nINV-3337\\n\\nOrder Number\\n\\n12345\\n\\nSuite 5A-1204 Invoice Date January 25, 2016\\n123 Somewhere Street Due Date January 31, 2016\\nYour City AZ 12345\\nadmin @slicedinvoices.com fotallpue) CERES\\nTo:\\nTest Business\\n123 Somewhere St\\nMelbourne, VIC 3000\\nlest@test.com\\nHrs/Qty Service Rate/Price Adjust Sub Total\\nWeb Design 9\\n1.00 This is a sample description... $85.00 0.00% $85.00\\nSub Total $85.00\\nTax $8.50\\nTotal $93.50\\n\\nANZ Bank\\nACC # 1234 1234\\nBSB # 4321 432\\n\\nPayment is due within 30 days from date of invoice. Late payment is subject to fees of 5% per month.\\nThanks for choosing DEMO - Sliced Invoices | admin@slicedinvoices.com\\n\\nPage 1/1\\n\\n'"
      ]
     },
     "execution_count": 84,
     "metadata": {},
     "output_type": "execute_result"
    }
   ],
   "source": [
    "d['text']"
   ]
  },
  {
   "cell_type": "code",
   "execution_count": 72,
   "id": "7e682448",
   "metadata": {},
   "outputs": [
    {
     "data": {
      "text/plain": [
       "'                   '"
      ]
     },
     "execution_count": 72,
     "metadata": {},
     "output_type": "execute_result"
    }
   ],
   "source": [
    "' '.join(d['text'])"
   ]
  },
  {
   "cell_type": "code",
   "execution_count": 85,
   "id": "ad619c52",
   "metadata": {},
   "outputs": [],
   "source": [
    "with open(filePath, 'r') as f:\n",
    "    text = f.read()\n",
    "\n",
    "# Apply the NER model to the invoice text\n",
    "doc = nlp(d['text'])"
   ]
  },
  {
   "cell_type": "code",
   "execution_count": 94,
   "id": "623fb191",
   "metadata": {},
   "outputs": [
    {
     "name": "stdout",
     "output_type": "stream",
     "text": [
      "DEMO - Sliced Invoices\n",
      "\n",
      "Invoice\n",
      "\n",
      "Invoice Number\n",
      "\n",
      "INV-3337\n",
      "\n",
      "Order --- ORG\n",
      "12345 --- DATE\n",
      "January 25, 2016 --- DATE\n",
      "123 --- CARDINAL\n",
      "Somewhere Street Due Date --- WORK_OF_ART\n",
      "January 31, 2016 --- DATE\n",
      "12345 --- DATE\n",
      "Test Business --- ORG\n",
      "123 --- CARDINAL\n",
      "Melbourne --- GPE\n",
      "3000 --- CARDINAL\n",
      "Hrs/Qty Service Rate/Price Adjust Sub Total\n",
      "Web Design --- ORG\n",
      "1.00 --- DATE\n",
      "0.00% --- PERCENT\n",
      "85.00 --- MONEY\n",
      "Sub Total --- ORG\n",
      "85.00 --- MONEY\n",
      "8.50 --- MONEY\n",
      "93.50 --- MONEY\n",
      "ANZ Bank --- ORG\n",
      "# 1234 1234 --- DATE\n",
      "BSB --- ORG\n",
      "# 4321 432 --- MONEY\n",
      "30 days --- DATE\n",
      "5% --- PERCENT\n",
      "DEMO - Sliced Invoices --- ORG\n",
      "1/1 --- CARDINAL\n"
     ]
    }
   ],
   "source": [
    "for ent in doc.ents:\n",
    "    print(ent,\"---\", ent.label_)"
   ]
  },
  {
   "cell_type": "code",
   "execution_count": 87,
   "id": "1da660ff",
   "metadata": {},
   "outputs": [],
   "source": [
    "invoice_number = None\n",
    "invoice_date = None\n",
    "total_amount_due = None\n",
    "\n",
    "for ent in doc.ents:\n",
    "    if ent.label_ == 'INVOICE_NUMBER':\n",
    "        invoice_number = ent.text.strip()\n",
    "    elif ent.label_ == 'DATE':\n",
    "        if ent.text.strip().lower().startswith('invoice'):\n",
    "            invoice_date = ent.text.strip()\n",
    "    elif ent.label_ == 'MONEY':\n",
    "        if 'total' in ent.text.strip().lower():\n",
    "            total_amount_due = ent.text.strip()"
   ]
  },
  {
   "cell_type": "code",
   "execution_count": 88,
   "id": "c84eec4b",
   "metadata": {},
   "outputs": [
    {
     "name": "stdout",
     "output_type": "stream",
     "text": [
      "Invoice Number: None\n",
      "Invoice Date: None\n",
      "Total Amount Due: None\n"
     ]
    }
   ],
   "source": [
    "print('Invoice Number:', invoice_number)\n",
    "print('Invoice Date:', invoice_date)\n",
    "print('Total Amount Due:', total_amount_due)"
   ]
  },
  {
   "cell_type": "code",
   "execution_count": null,
   "id": "4a677253",
   "metadata": {},
   "outputs": [],
   "source": []
  }
 ],
 "metadata": {
  "kernelspec": {
   "display_name": "Python 3 (ipykernel)",
   "language": "python",
   "name": "python3"
  },
  "language_info": {
   "codemirror_mode": {
    "name": "ipython",
    "version": 3
   },
   "file_extension": ".py",
   "mimetype": "text/x-python",
   "name": "python",
   "nbconvert_exporter": "python",
   "pygments_lexer": "ipython3",
   "version": "3.12.3"
  }
 },
 "nbformat": 4,
 "nbformat_minor": 5
}
